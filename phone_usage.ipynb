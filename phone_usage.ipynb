{
 "cells": [
  {
   "cell_type": "markdown",
   "id": "3540825d-a534-40df-a9d9-97cf38e720e0",
   "metadata": {},
   "source": [
    "importing the data \n",
    "\n"
   ]
  },
  {
   "cell_type": "code",
   "execution_count": 11,
   "id": "5a5ccd05-2abb-495f-9186-2ccdf47509d1",
   "metadata": {},
   "outputs": [
    {
     "name": "stdout",
     "output_type": "stream",
     "text": [
      "      User ID  Age  Gender   Location Phone Brand       OS  \\\n",
      "0      U00001   53    Male     Mumbai        Vivo  Android   \n",
      "1      U00002   60   Other      Delhi      Realme      iOS   \n",
      "2      U00003   37  Female  Ahmedabad       Nokia  Android   \n",
      "3      U00004   32    Male       Pune     Samsung  Android   \n",
      "4      U00005   16    Male     Mumbai      Xiaomi      iOS   \n",
      "...       ...  ...     ...        ...         ...      ...   \n",
      "17681  U17682   27   Other     Mumbai       Apple      iOS   \n",
      "17682  U17683   40  Female    Chennai        Oppo      iOS   \n",
      "17683  U17684   34  Female  Ahmedabad      Realme  Android   \n",
      "17684  U17685   22    Male  Hyderabad        Vivo  Android   \n",
      "17685  U17686   43   Other    Kolkata        Oppo      iOS   \n",
      "\n",
      "       Screen Time (hrs/day)  Data Usage (GB/month)  \\\n",
      "0                        3.7                   23.9   \n",
      "1                        9.2                   28.1   \n",
      "2                        4.5                   12.3   \n",
      "3                       11.0                   25.6   \n",
      "4                        2.2                    2.5   \n",
      "...                      ...                    ...   \n",
      "17681                    7.2                   36.6   \n",
      "17682                    9.5                   12.9   \n",
      "17683                    1.1                   48.9   \n",
      "17684                    8.8                   25.6   \n",
      "17685                    5.6                   22.5   \n",
      "\n",
      "       Calls Duration (mins/day)  Number of Apps Installed  \\\n",
      "0                           37.9                       104   \n",
      "1                           13.7                       169   \n",
      "2                           66.8                        96   \n",
      "3                          156.2                       146   \n",
      "4                          236.2                        86   \n",
      "...                          ...                       ...   \n",
      "17681                       90.4                        81   \n",
      "17682                      243.0                       166   \n",
      "17683                       74.7                        70   \n",
      "17684                      105.6                        96   \n",
      "17685                      215.2                        78   \n",
      "\n",
      "       Social Media Time (hrs/day)  E-commerce Spend (INR/month)  \\\n",
      "0                              3.9                           469   \n",
      "1                              2.8                          4997   \n",
      "2                              3.0                          2381   \n",
      "3                              5.2                          1185   \n",
      "4                              5.5                           106   \n",
      "...                            ...                           ...   \n",
      "17681                          5.1                          4007   \n",
      "17682                          4.3                          8550   \n",
      "17683                          5.3                          5516   \n",
      "17684                          2.4                          3614   \n",
      "17685                          5.1                          5332   \n",
      "\n",
      "       Streaming Time (hrs/day)  Gaming Time (hrs/day)  \\\n",
      "0                           5.2                    4.1   \n",
      "1                           5.1                    0.4   \n",
      "2                           1.7                    2.9   \n",
      "3                           3.2                    0.3   \n",
      "4                           3.4                    2.3   \n",
      "...                         ...                    ...   \n",
      "17681                       3.8                    3.3   \n",
      "17682                       3.4                    0.7   \n",
      "17683                       0.7                    4.0   \n",
      "17684                       6.6                    0.8   \n",
      "17685                       0.8                    3.6   \n",
      "\n",
      "       Monthly Recharge Cost (INR)    Primary Use  \n",
      "0                              803      Education  \n",
      "1                             1526         Gaming  \n",
      "2                             1619  Entertainment  \n",
      "3                             1560  Entertainment  \n",
      "4                              742   Social Media  \n",
      "...                            ...            ...  \n",
      "17681                         1380  Entertainment  \n",
      "17682                          222      Education  \n",
      "17683                         1612  Entertainment  \n",
      "17684                         1528           Work  \n",
      "17685                         1098         Gaming  \n",
      "\n",
      "[17686 rows x 16 columns]\n"
     ]
    }
   ],
   "source": [
    "import pandas as pd\n",
    "\n",
    "\n",
    "df = pd.read_excel(\"/Users/shivkumar/Documents/phone_usage_india.excel.xlsx\")\n",
    "\n",
    "print(df)"
   ]
  },
  {
   "cell_type": "code",
   "execution_count": 13,
   "id": "08efb00c-669d-4f95-b964-829ff64e1d3a",
   "metadata": {},
   "outputs": [
    {
     "data": {
      "text/html": [
       "<div>\n",
       "<style scoped>\n",
       "    .dataframe tbody tr th:only-of-type {\n",
       "        vertical-align: middle;\n",
       "    }\n",
       "\n",
       "    .dataframe tbody tr th {\n",
       "        vertical-align: top;\n",
       "    }\n",
       "\n",
       "    .dataframe thead th {\n",
       "        text-align: right;\n",
       "    }\n",
       "</style>\n",
       "<table border=\"1\" class=\"dataframe\">\n",
       "  <thead>\n",
       "    <tr style=\"text-align: right;\">\n",
       "      <th></th>\n",
       "      <th>User ID</th>\n",
       "      <th>Age</th>\n",
       "      <th>Gender</th>\n",
       "      <th>Location</th>\n",
       "      <th>Phone Brand</th>\n",
       "      <th>OS</th>\n",
       "      <th>Screen Time (hrs/day)</th>\n",
       "      <th>Data Usage (GB/month)</th>\n",
       "      <th>Calls Duration (mins/day)</th>\n",
       "      <th>Number of Apps Installed</th>\n",
       "      <th>Social Media Time (hrs/day)</th>\n",
       "      <th>E-commerce Spend (INR/month)</th>\n",
       "      <th>Streaming Time (hrs/day)</th>\n",
       "      <th>Gaming Time (hrs/day)</th>\n",
       "      <th>Monthly Recharge Cost (INR)</th>\n",
       "      <th>Primary Use</th>\n",
       "    </tr>\n",
       "  </thead>\n",
       "  <tbody>\n",
       "    <tr>\n",
       "      <th>0</th>\n",
       "      <td>U00001</td>\n",
       "      <td>53</td>\n",
       "      <td>Male</td>\n",
       "      <td>Mumbai</td>\n",
       "      <td>Vivo</td>\n",
       "      <td>Android</td>\n",
       "      <td>3.7</td>\n",
       "      <td>23.9</td>\n",
       "      <td>37.9</td>\n",
       "      <td>104</td>\n",
       "      <td>3.9</td>\n",
       "      <td>469</td>\n",
       "      <td>5.2</td>\n",
       "      <td>4.1</td>\n",
       "      <td>803</td>\n",
       "      <td>Education</td>\n",
       "    </tr>\n",
       "    <tr>\n",
       "      <th>1</th>\n",
       "      <td>U00002</td>\n",
       "      <td>60</td>\n",
       "      <td>Other</td>\n",
       "      <td>Delhi</td>\n",
       "      <td>Realme</td>\n",
       "      <td>iOS</td>\n",
       "      <td>9.2</td>\n",
       "      <td>28.1</td>\n",
       "      <td>13.7</td>\n",
       "      <td>169</td>\n",
       "      <td>2.8</td>\n",
       "      <td>4997</td>\n",
       "      <td>5.1</td>\n",
       "      <td>0.4</td>\n",
       "      <td>1526</td>\n",
       "      <td>Gaming</td>\n",
       "    </tr>\n",
       "  </tbody>\n",
       "</table>\n",
       "</div>"
      ],
      "text/plain": [
       "  User ID  Age Gender Location Phone Brand       OS  Screen Time (hrs/day)  \\\n",
       "0  U00001   53   Male   Mumbai        Vivo  Android                    3.7   \n",
       "1  U00002   60  Other    Delhi      Realme      iOS                    9.2   \n",
       "\n",
       "   Data Usage (GB/month)  Calls Duration (mins/day)  Number of Apps Installed  \\\n",
       "0                   23.9                       37.9                       104   \n",
       "1                   28.1                       13.7                       169   \n",
       "\n",
       "   Social Media Time (hrs/day)  E-commerce Spend (INR/month)  \\\n",
       "0                          3.9                           469   \n",
       "1                          2.8                          4997   \n",
       "\n",
       "   Streaming Time (hrs/day)  Gaming Time (hrs/day)  \\\n",
       "0                       5.2                    4.1   \n",
       "1                       5.1                    0.4   \n",
       "\n",
       "   Monthly Recharge Cost (INR) Primary Use  \n",
       "0                          803   Education  \n",
       "1                         1526      Gaming  "
      ]
     },
     "execution_count": 13,
     "metadata": {},
     "output_type": "execute_result"
    }
   ],
   "source": [
    "df.head(2)"
   ]
  },
  {
   "cell_type": "markdown",
   "id": "21815f48-968d-41c8-bffc-4beb14508952",
   "metadata": {},
   "source": [
    "Check for missing or inconsistent data."
   ]
  },
  {
   "cell_type": "code",
   "execution_count": 16,
   "id": "b8c599f7-3fbe-4972-9700-760a7288a0a1",
   "metadata": {},
   "outputs": [
    {
     "data": {
      "text/plain": [
       "0"
      ]
     },
     "execution_count": 16,
     "metadata": {},
     "output_type": "execute_result"
    }
   ],
   "source": [
    "df.duplicated().sum()"
   ]
  },
  {
   "cell_type": "code",
   "execution_count": 17,
   "id": "03b7ace3-0e00-4f8b-b63b-2de30528c5cb",
   "metadata": {},
   "outputs": [
    {
     "data": {
      "text/plain": [
       "User ID                         0\n",
       "Age                             0\n",
       "Gender                          0\n",
       "Location                        0\n",
       "Phone Brand                     0\n",
       "OS                              0\n",
       "Screen Time (hrs/day)           0\n",
       "Data Usage (GB/month)           0\n",
       "Calls Duration (mins/day)       0\n",
       "Number of Apps Installed        0\n",
       "Social Media Time (hrs/day)     0\n",
       "E-commerce Spend (INR/month)    0\n",
       "Streaming Time (hrs/day)        0\n",
       "Gaming Time (hrs/day)           0\n",
       "Monthly Recharge Cost (INR)     0\n",
       "Primary Use                     0\n",
       "dtype: int64"
      ]
     },
     "execution_count": 17,
     "metadata": {},
     "output_type": "execute_result"
    }
   ],
   "source": [
    "df.isnull().sum()"
   ]
  },
  {
   "cell_type": "markdown",
   "id": "61cc0a3d-7167-4cb9-b2e6-e50b79444a79",
   "metadata": {},
   "source": [
    "Analysis and Insights\n"
   ]
  },
  {
   "cell_type": "code",
   "execution_count": 18,
   "id": "7b6edc9b-5fb4-4942-9994-147fc03c39a0",
   "metadata": {},
   "outputs": [
    {
     "data": {
      "text/plain": [
       "Index(['User ID', 'Age', 'Gender', 'Location', 'Phone Brand', 'OS',\n",
       "       'Screen Time (hrs/day)', 'Data Usage (GB/month)',\n",
       "       'Calls Duration (mins/day)', 'Number of Apps Installed',\n",
       "       'Social Media Time (hrs/day)', 'E-commerce Spend (INR/month)',\n",
       "       'Streaming Time (hrs/day)', 'Gaming Time (hrs/day)',\n",
       "       'Monthly Recharge Cost (INR)', 'Primary Use'],\n",
       "      dtype='object')"
      ]
     },
     "execution_count": 18,
     "metadata": {},
     "output_type": "execute_result"
    }
   ],
   "source": [
    "df.columns"
   ]
  },
  {
   "cell_type": "markdown",
   "id": "d975d74d-eff8-4692-8d5a-b19313bccc7b",
   "metadata": {},
   "source": [
    "Average screen time by age group and city."
   ]
  },
  {
   "cell_type": "code",
   "execution_count": 19,
   "id": "459c52a6-1bc0-4967-b7e0-29aeb93868b1",
   "metadata": {},
   "outputs": [
    {
     "data": {
      "text/plain": [
       "Age\n",
       "15    2685.5\n",
       "16    2671.5\n",
       "17    2308.5\n",
       "18    2308.8\n",
       "19    2728.0\n",
       "20    2538.1\n",
       "21    2560.7\n",
       "22    2520.3\n",
       "23    2451.6\n",
       "24    2651.6\n",
       "25    2489.3\n",
       "26    2480.3\n",
       "27    2345.7\n",
       "28    2626.6\n",
       "29    2354.7\n",
       "30    2596.2\n",
       "31    2429.9\n",
       "32    2447.1\n",
       "33    2547.5\n",
       "34    2434.1\n",
       "35    2608.0\n",
       "36    2668.5\n",
       "37    2560.6\n",
       "38    2285.8\n",
       "39    2526.0\n",
       "40    2593.9\n",
       "41    2508.4\n",
       "42    2343.5\n",
       "43    2277.8\n",
       "44    2447.0\n",
       "45    2429.5\n",
       "46    2839.6\n",
       "47    2595.1\n",
       "48    2547.1\n",
       "49    2387.6\n",
       "50    2684.1\n",
       "51    2462.5\n",
       "52    2581.1\n",
       "53    2502.5\n",
       "54    2654.6\n",
       "55    2425.2\n",
       "56    2479.6\n",
       "57    2445.8\n",
       "58    2894.1\n",
       "59    2535.9\n",
       "60    2319.4\n",
       "Name: Screen Time (hrs/day), dtype: float64"
      ]
     },
     "execution_count": 19,
     "metadata": {},
     "output_type": "execute_result"
    }
   ],
   "source": [
    "df.groupby('Age')['Screen Time (hrs/day)'].sum()"
   ]
  },
  {
   "cell_type": "code",
   "execution_count": 28,
   "id": "a908f2a4-a429-4311-8a0f-beebcd6a59e8",
   "metadata": {},
   "outputs": [],
   "source": [
    "max_screen_time = df.groupby('Age')['Screen Time (hrs/day)'].sum().idxmax()"
   ]
  },
  {
   "cell_type": "code",
   "execution_count": 29,
   "id": "525594f6-68fd-4c44-bdc4-d3d0fa8358d8",
   "metadata": {},
   "outputs": [
    {
     "name": "stdout",
     "output_type": "stream",
     "text": [
      "58\n"
     ]
    }
   ],
   "source": [
    "print(max_screen_time)"
   ]
  },
  {
   "cell_type": "code",
   "execution_count": 39,
   "id": "cfcf15a1-3e43-4121-a765-4180a9c08a17",
   "metadata": {},
   "outputs": [
    {
     "data": {
      "text/plain": [
       "Location\n",
       "Ahmedabad    11716.5\n",
       "Bangalore    11738.5\n",
       "Chennai      11684.9\n",
       "Delhi        11480.7\n",
       "Hyderabad    11212.7\n",
       "Jaipur       12136.0\n",
       "Kolkata      11471.7\n",
       "Lucknow      11184.0\n",
       "Mumbai       11057.0\n",
       "Pune         12097.2\n",
       "Name: Screen Time (hrs/day), dtype: float64"
      ]
     },
     "execution_count": 39,
     "metadata": {},
     "output_type": "execute_result"
    }
   ],
   "source": [
    "df.groupby('Location')['Screen Time (hrs/day)'].sum()"
   ]
  },
  {
   "cell_type": "markdown",
   "id": "036c09b5-73ab-4bf3-8e46-d74f80d330eb",
   "metadata": {},
   "source": [
    "Correlation between data usage and screen time."
   ]
  },
  {
   "cell_type": "code",
   "execution_count": 31,
   "id": "cc49bdb2-0e0a-4513-9caa-8291ee477f5e",
   "metadata": {},
   "outputs": [
    {
     "name": "stdout",
     "output_type": "stream",
     "text": [
      "Correlation between data usage and screen time: 0.00032579988493293345\n"
     ]
    }
   ],
   "source": [
    "correlation = df['Data Usage (GB/month)'].corr(df['Screen Time (hrs/day)'])\n",
    "print(f\"Correlation between data usage and screen time: {correlation}\")"
   ]
  },
  {
   "cell_type": "code",
   "execution_count": 35,
   "id": "ae669643-0f2a-4dea-a333-1791f72d8b26",
   "metadata": {},
   "outputs": [
    {
     "data": {
      "image/png": "[encoded data removed]",
      "text/plain": [
       "<Figure size 640x480 with 1 Axes>"
      ]
     },
     "metadata": {},
     "output_type": "display_data"
    }
   ],
   "source": [
    "import matplotlib.pyplot as plt\n",
    "\n",
    "# Scatter plot\n",
    "plt.scatter(df['Data Usage (GB/month)'], df['Screen Time (hrs/day)'])\n",
    "plt.title(\"Data Usage vs. Screen Time\")\n",
    "plt.xlabel(\"Data Usage (GB/month)\")\n",
    "plt.ylabel(\"Screen Time (hrs/day)\")\n",
    "plt.grid(True)\n",
    "plt.show()"
   ]
  },
  {
   "cell_type": "markdown",
   "id": "dc23a858-cfab-4525-ba7a-45798dc5c570",
   "metadata": {},
   "source": [
    "Distribution of primary phone use."
   ]
  },
  {
   "cell_type": "code",
   "execution_count": 36,
   "id": "9cbe7b84-f847-420d-b9cc-75d798d8259a",
   "metadata": {},
   "outputs": [
    {
     "data": {
      "text/plain": [
       "Index(['User ID', 'Age', 'Gender', 'Location', 'Phone Brand', 'OS',\n",
       "       'Screen Time (hrs/day)', 'Data Usage (GB/month)',\n",
       "       'Calls Duration (mins/day)', 'Number of Apps Installed',\n",
       "       'Social Media Time (hrs/day)', 'E-commerce Spend (INR/month)',\n",
       "       'Streaming Time (hrs/day)', 'Gaming Time (hrs/day)',\n",
       "       'Monthly Recharge Cost (INR)', 'Primary Use'],\n",
       "      dtype='object')"
      ]
     },
     "execution_count": 36,
     "metadata": {},
     "output_type": "execute_result"
    }
   ],
   "source": [
    "df.columns"
   ]
  },
  {
   "cell_type": "code",
   "execution_count": 38,
   "id": "f363d130-c9ad-4eef-864f-85c806659e82",
   "metadata": {},
   "outputs": [
    {
     "name": "stdout",
     "output_type": "stream",
     "text": [
      "Primary Use\n",
      "Education        3601\n",
      "Gaming           3576\n",
      "Work             3557\n",
      "Social Media     3501\n",
      "Entertainment    3451\n",
      "Name: count, dtype: int64\n"
     ]
    }
   ],
   "source": [
    "primary_phone = df.value_counts('Primary Use')\n",
    "\n",
    "print(primary_phone)"
   ]
  },
  {
   "cell_type": "code",
   "execution_count": null,
   "id": "af09b328-e32e-4eed-ab8c-43c02109713c",
   "metadata": {},
   "outputs": [],
   "source": []
  }
 ],
 "metadata": {
  "kernelspec": {
   "display_name": "Python 3 (ipykernel)",
   "language": "python",
   "name": "python3"
  },
  "language_info": {
   "codemirror_mode": {
    "name": "ipython",
    "version": 3
   },
   "file_extension": ".py",
   "mimetype": "text/x-python",
   "name": "python",
   "nbconvert_exporter": "python",
   "pygments_lexer": "ipython3",
   "version": "3.12.7"
  }
 },
 "nbformat": 4,
 "nbformat_minor": 5
}
